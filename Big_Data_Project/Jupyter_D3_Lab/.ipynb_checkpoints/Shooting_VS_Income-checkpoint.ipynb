{
 "cells": [
  {
   "cell_type": "code",
   "execution_count": 1,
   "id": "66b9ee85",
   "metadata": {},
   "outputs": [],
   "source": [
    "from IPython.core.display import display, HTML, Javascript\n",
    "from string import Template\n",
    "import json, os\n",
    "import pandas as pd\n",
    "import numpy as np"
   ]
  },
  {
   "cell_type": "code",
   "execution_count": 3,
   "id": "8ab94463",
   "metadata": {},
   "outputs": [],
   "source": [
    "notebook_path = os.path.abspath(\"shooting_with_income.ipynb\")\n",
    "historic_csv = os.path.join(os.path.dirname(notebook_path), \"historic_incident_with_zipcode_cleaned.csv\")\n",
    "historic = pd.read_csv(historic_csv)\n",
    "current_csv = os.path.join(os.path.dirname(notebook_path), \"historic_incident_with_zipcode2020_cleaned.csv\")\n",
    "current = pd.read_csv(current_csv)\n",
    "income_csv = os.path.join(os.path.dirname(notebook_path), \"Median_Income_Byzip_Avg.csv\")\n",
    "income = pd.read_csv(income_csv).to_dict(orient='records')"
   ]
  },
  {
   "cell_type": "code",
   "execution_count": 4,
   "id": "2c74036b",
   "metadata": {},
   "outputs": [],
   "source": [
    "bigdata = historic.append(current, ignore_index=True)"
   ]
  },
  {
   "cell_type": "code",
   "execution_count": null,
   "id": "38a21918",
   "metadata": {},
   "outputs": [],
   "source": []
  }
 ],
 "metadata": {
  "kernelspec": {
   "display_name": "Python 3",
   "language": "python",
   "name": "python3"
  },
  "language_info": {
   "codemirror_mode": {
    "name": "ipython",
    "version": 3
   },
   "file_extension": ".py",
   "mimetype": "text/x-python",
   "name": "python",
   "nbconvert_exporter": "python",
   "pygments_lexer": "ipython3",
   "version": "3.8.5"
  }
 },
 "nbformat": 4,
 "nbformat_minor": 5
}
