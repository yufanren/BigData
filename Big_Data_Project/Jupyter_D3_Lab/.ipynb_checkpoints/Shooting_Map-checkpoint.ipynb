{
 "cells": [
  {
   "cell_type": "code",
   "execution_count": 1,
   "id": "ccc35b61",
   "metadata": {},
   "outputs": [],
   "source": [
    "from IPython.core.display import display, HTML, Javascript\n",
    "from string import Template\n",
    "import json, os\n",
    "import pandas as pd"
   ]
  },
  {
   "cell_type": "code",
   "execution_count": null,
   "id": "3bcc5a14",
   "metadata": {},
   "outputs": [],
   "source": [
    "notebook_path = os.path.abspath(\".ipynb\")\n",
    "income_csv = os.path.join(os.path.dirname(notebook_path), \"Median_Income_Byzip_Avg.csv\")\n",
    "income = pd.read_csv(income_csv).to_dict(orient='records')\n",
    "income[:5]"
   ]
  }
 ],
 "metadata": {
  "kernelspec": {
   "display_name": "Python 3",
   "language": "python",
   "name": "python3"
  },
  "language_info": {
   "codemirror_mode": {
    "name": "ipython",
    "version": 3
   },
   "file_extension": ".py",
   "mimetype": "text/x-python",
   "name": "python",
   "nbconvert_exporter": "python",
   "pygments_lexer": "ipython3",
   "version": "3.8.5"
  }
 },
 "nbformat": 4,
 "nbformat_minor": 5
}
