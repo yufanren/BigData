{
 "cells": [
  {
   "cell_type": "code",
   "execution_count": 1,
   "metadata": {},
   "outputs": [
    {
     "data": {
      "text/html": [
       "<div>\n",
       "<style scoped>\n",
       "    .dataframe tbody tr th:only-of-type {\n",
       "        vertical-align: middle;\n",
       "    }\n",
       "\n",
       "    .dataframe tbody tr th {\n",
       "        vertical-align: top;\n",
       "    }\n",
       "\n",
       "    .dataframe thead th {\n",
       "        text-align: right;\n",
       "    }\n",
       "</style>\n",
       "<table border=\"1\" class=\"dataframe\">\n",
       "  <thead>\n",
       "    <tr style=\"text-align: right;\">\n",
       "      <th></th>\n",
       "      <th>INCIDENT_KEY</th>\n",
       "      <th>OCCUR_DATE</th>\n",
       "      <th>OCCUR_TIME</th>\n",
       "      <th>BORO</th>\n",
       "      <th>PRECINCT</th>\n",
       "      <th>JURISDICTION_CODE</th>\n",
       "      <th>LOCATION_DESC</th>\n",
       "      <th>STATISTICAL_MURDER_FLAG</th>\n",
       "      <th>PERP_AGE_GROUP</th>\n",
       "      <th>PERP_SEX</th>\n",
       "      <th>PERP_RACE</th>\n",
       "      <th>VIC_AGE_GROUP</th>\n",
       "      <th>VIC_SEX</th>\n",
       "      <th>VIC_RACE</th>\n",
       "      <th>X_COORD_CD</th>\n",
       "      <th>Y_COORD_CD</th>\n",
       "      <th>Latitude</th>\n",
       "      <th>Longitude</th>\n",
       "      <th>New Georeferenced Column</th>\n",
       "    </tr>\n",
       "  </thead>\n",
       "  <tbody>\n",
       "    <tr>\n",
       "      <th>0</th>\n",
       "      <td>221467363</td>\n",
       "      <td>12/07/2020</td>\n",
       "      <td>05:50:00</td>\n",
       "      <td>BRONX</td>\n",
       "      <td>40</td>\n",
       "      <td>0</td>\n",
       "      <td>NaN</td>\n",
       "      <td>False</td>\n",
       "      <td>NaN</td>\n",
       "      <td>NaN</td>\n",
       "      <td>NaN</td>\n",
       "      <td>18-24</td>\n",
       "      <td>M</td>\n",
       "      <td>BLACK</td>\n",
       "      <td>1020183</td>\n",
       "      <td>239283</td>\n",
       "      <td>40.823387</td>\n",
       "      <td>-73.870170</td>\n",
       "      <td>POINT (-73.87017045 40.82338729100008)</td>\n",
       "    </tr>\n",
       "    <tr>\n",
       "      <th>1</th>\n",
       "      <td>213923358</td>\n",
       "      <td>06/06/2020</td>\n",
       "      <td>21:00:00</td>\n",
       "      <td>BRONX</td>\n",
       "      <td>47</td>\n",
       "      <td>0</td>\n",
       "      <td>NaN</td>\n",
       "      <td>False</td>\n",
       "      <td>NaN</td>\n",
       "      <td>NaN</td>\n",
       "      <td>NaN</td>\n",
       "      <td>18-24</td>\n",
       "      <td>M</td>\n",
       "      <td>BLACK</td>\n",
       "      <td>1009548</td>\n",
       "      <td>258693</td>\n",
       "      <td>40.876699</td>\n",
       "      <td>-73.908523</td>\n",
       "      <td>POINT (-73.90852293799998 40.87669883700005)</td>\n",
       "    </tr>\n",
       "    <tr>\n",
       "      <th>2</th>\n",
       "      <td>217218947</td>\n",
       "      <td>08/30/2020</td>\n",
       "      <td>01:39:00</td>\n",
       "      <td>BROOKLYN</td>\n",
       "      <td>73</td>\n",
       "      <td>0</td>\n",
       "      <td>NaN</td>\n",
       "      <td>False</td>\n",
       "      <td>NaN</td>\n",
       "      <td>NaN</td>\n",
       "      <td>NaN</td>\n",
       "      <td>45-64</td>\n",
       "      <td>F</td>\n",
       "      <td>BLACK</td>\n",
       "      <td>1025754</td>\n",
       "      <td>268697</td>\n",
       "      <td>40.904095</td>\n",
       "      <td>-73.849860</td>\n",
       "      <td>POINT (-73.84985952299998 40.90409529500005)</td>\n",
       "    </tr>\n",
       "    <tr>\n",
       "      <th>3</th>\n",
       "      <td>216209200</td>\n",
       "      <td>08/05/2020</td>\n",
       "      <td>20:01:00</td>\n",
       "      <td>QUEENS</td>\n",
       "      <td>104</td>\n",
       "      <td>0</td>\n",
       "      <td>PVT HOUSE</td>\n",
       "      <td>False</td>\n",
       "      <td>18-24</td>\n",
       "      <td>M</td>\n",
       "      <td>UNKNOWN</td>\n",
       "      <td>25-44</td>\n",
       "      <td>F</td>\n",
       "      <td>BLACK HISPANIC</td>\n",
       "      <td>1051162</td>\n",
       "      <td>155661</td>\n",
       "      <td>40.593685</td>\n",
       "      <td>-73.759070</td>\n",
       "      <td>POINT (-73.75907037999998 40.59368532700007)</td>\n",
       "    </tr>\n",
       "    <tr>\n",
       "      <th>4</th>\n",
       "      <td>221795938</td>\n",
       "      <td>12/13/2020</td>\n",
       "      <td>16:00:00</td>\n",
       "      <td>BROOKLYN</td>\n",
       "      <td>75</td>\n",
       "      <td>0</td>\n",
       "      <td>NaN</td>\n",
       "      <td>False</td>\n",
       "      <td>NaN</td>\n",
       "      <td>NaN</td>\n",
       "      <td>NaN</td>\n",
       "      <td>25-44</td>\n",
       "      <td>F</td>\n",
       "      <td>BLACK</td>\n",
       "      <td>1008427</td>\n",
       "      <td>183518</td>\n",
       "      <td>40.670366</td>\n",
       "      <td>-73.912847</td>\n",
       "      <td>POINT (-73.91284696199995 40.670366460000025)</td>\n",
       "    </tr>\n",
       "  </tbody>\n",
       "</table>\n",
       "</div>"
      ],
      "text/plain": [
       "   INCIDENT_KEY  OCCUR_DATE OCCUR_TIME      BORO  PRECINCT  JURISDICTION_CODE  \\\n",
       "0     221467363  12/07/2020   05:50:00     BRONX        40                  0   \n",
       "1     213923358  06/06/2020   21:00:00     BRONX        47                  0   \n",
       "2     217218947  08/30/2020   01:39:00  BROOKLYN        73                  0   \n",
       "3     216209200  08/05/2020   20:01:00    QUEENS       104                  0   \n",
       "4     221795938  12/13/2020   16:00:00  BROOKLYN        75                  0   \n",
       "\n",
       "  LOCATION_DESC  STATISTICAL_MURDER_FLAG PERP_AGE_GROUP PERP_SEX PERP_RACE  \\\n",
       "0           NaN                    False            NaN      NaN       NaN   \n",
       "1           NaN                    False            NaN      NaN       NaN   \n",
       "2           NaN                    False            NaN      NaN       NaN   \n",
       "3     PVT HOUSE                    False          18-24        M   UNKNOWN   \n",
       "4           NaN                    False            NaN      NaN       NaN   \n",
       "\n",
       "  VIC_AGE_GROUP VIC_SEX        VIC_RACE  X_COORD_CD  Y_COORD_CD   Latitude  \\\n",
       "0         18-24       M           BLACK     1020183      239283  40.823387   \n",
       "1         18-24       M           BLACK     1009548      258693  40.876699   \n",
       "2         45-64       F           BLACK     1025754      268697  40.904095   \n",
       "3         25-44       F  BLACK HISPANIC     1051162      155661  40.593685   \n",
       "4         25-44       F           BLACK     1008427      183518  40.670366   \n",
       "\n",
       "   Longitude                       New Georeferenced Column  \n",
       "0 -73.870170         POINT (-73.87017045 40.82338729100008)  \n",
       "1 -73.908523   POINT (-73.90852293799998 40.87669883700005)  \n",
       "2 -73.849860   POINT (-73.84985952299998 40.90409529500005)  \n",
       "3 -73.759070   POINT (-73.75907037999998 40.59368532700007)  \n",
       "4 -73.912847  POINT (-73.91284696199995 40.670366460000025)  "
      ]
     },
     "execution_count": 1,
     "metadata": {},
     "output_type": "execute_result"
    }
   ],
   "source": [
    "## Importing libraries, creating dataFrame and reading the dataset\n",
    "import pandas as pd\n",
    "import numpy as np\n",
    "import seaborn as sns\n",
    "##import matplotlib.pyplot as plt\n",
    "\n",
    "import os\n",
    "\n",
    "df = pd.read_csv('NYPD_Shooting_Incident_Data__Year_To_Date_.csv')\n",
    "df.head()"
   ]
  },
  {
   "cell_type": "code",
   "execution_count": 4,
   "metadata": {},
   "outputs": [],
   "source": [
    "## Droping the unwanted columns\n",
    "\n",
    "to_drop = ['LOCATION_DESC','PRECINCT','STATISTICAL_MURDER_FLAG','PERP_AGE_GROUP','VIC_SEX','VIC_RACE','X_COORD_CD','Y_COORD_CD'\n",
    "          ,'Latitude','Longitude','New Georeferenced Column']\n",
    "\n",
    "df.drop(to_drop, inplace=True, axis=1)"
   ]
  },
  {
   "cell_type": "code",
   "execution_count": 5,
   "metadata": {},
   "outputs": [
    {
     "data": {
      "text/plain": [
       "False"
      ]
     },
     "execution_count": 5,
     "metadata": {},
     "output_type": "execute_result"
    }
   ],
   "source": [
    "## Checking if the incident key is unique or not\n",
    "df['INCIDENT_KEY'].is_unique"
   ]
  },
  {
   "cell_type": "code",
   "execution_count": 6,
   "metadata": {},
   "outputs": [],
   "source": [
    "## Removing all the duplicate entries\n",
    "\n",
    "df2 = df.drop_duplicates()"
   ]
  },
  {
   "cell_type": "code",
   "execution_count": 7,
   "metadata": {},
   "outputs": [
    {
     "data": {
      "text/plain": [
       "False"
      ]
     },
     "execution_count": 7,
     "metadata": {},
     "output_type": "execute_result"
    }
   ],
   "source": [
    "df2['INCIDENT_KEY'].is_unique"
   ]
  },
  {
   "cell_type": "code",
   "execution_count": 8,
   "metadata": {},
   "outputs": [
    {
     "data": {
      "text/plain": [
       "<AxesSubplot:>"
      ]
     },
     "execution_count": 8,
     "metadata": {},
     "output_type": "execute_result"
    },
    {
     "data": {
      "image/png": "[encoded data removed]",
      "text/plain": [
       "<Figure size 432x288 with 2 Axes>"
      ]
     },
     "metadata": {
      "needs_background": "light"
     },
     "output_type": "display_data"
    }
   ],
   "source": [
    "## Anazling NaN values using the heatMap\n",
    "\n",
    "sns.heatmap(df2.isnull(), yticklabels = False)\n"
   ]
  },
  {
   "cell_type": "code",
   "execution_count": 9,
   "metadata": {},
   "outputs": [],
   "source": [
    "## Droping all the entries which contain NaN.\n",
    "\n",
    "df3= df2.dropna()"
   ]
  },
  {
   "cell_type": "code",
   "execution_count": 10,
   "metadata": {},
   "outputs": [
    {
     "data": {
      "text/plain": [
       "<AxesSubplot:>"
      ]
     },
     "execution_count": 10,
     "metadata": {},
     "output_type": "execute_result"
    },
    {
     "data": {
      "image/png": "[encoded data removed]",
      "text/plain": [
       "<Figure size 432x288 with 2 Axes>"
      ]
     },
     "metadata": {
      "needs_background": "light"
     },
     "output_type": "display_data"
    }
   ],
   "source": [
    "## ReChecking NaN values using the heatMap\n",
    "\n",
    "sns.heatmap(df3.isnull(), yticklabels = False)"
   ]
  },
  {
   "cell_type": "code",
   "execution_count": 11,
   "metadata": {},
   "outputs": [
    {
     "name": "stderr",
     "output_type": "stream",
     "text": [
      "/Users/shreyasumare/opt/anaconda3/lib/python3.8/site-packages/pandas/core/frame.py:4163: SettingWithCopyWarning: \n",
      "A value is trying to be set on a copy of a slice from a DataFrame\n",
      "\n",
      "See the caveats in the documentation: https://pandas.pydata.org/pandas-docs/stable/user_guide/indexing.html#returning-a-view-versus-a-copy\n",
      "  return super().drop(\n"
     ]
    }
   ],
   "source": [
    "## Droping all the entries in which the column PERP_SEX contains : UNKNOWN.\n",
    "\n",
    "df3.drop(df3[df3['PERP_RACE'] == 'UNKNOWN'].index, inplace = True)"
   ]
  },
  {
   "cell_type": "code",
   "execution_count": 12,
   "metadata": {},
   "outputs": [
    {
     "data": {
      "text/html": [
       "<div>\n",
       "<style scoped>\n",
       "    .dataframe tbody tr th:only-of-type {\n",
       "        vertical-align: middle;\n",
       "    }\n",
       "\n",
       "    .dataframe tbody tr th {\n",
       "        vertical-align: top;\n",
       "    }\n",
       "\n",
       "    .dataframe thead th {\n",
       "        text-align: right;\n",
       "    }\n",
       "</style>\n",
       "<table border=\"1\" class=\"dataframe\">\n",
       "  <thead>\n",
       "    <tr style=\"text-align: right;\">\n",
       "      <th></th>\n",
       "      <th>INCIDENT_KEY</th>\n",
       "      <th>OCCUR_DATE</th>\n",
       "      <th>OCCUR_TIME</th>\n",
       "      <th>BORO</th>\n",
       "      <th>JURISDICTION_CODE</th>\n",
       "      <th>PERP_SEX</th>\n",
       "      <th>PERP_RACE</th>\n",
       "      <th>VIC_AGE_GROUP</th>\n",
       "    </tr>\n",
       "  </thead>\n",
       "  <tbody>\n",
       "    <tr>\n",
       "      <th>5</th>\n",
       "      <td>214607781</td>\n",
       "      <td>06/25/2020</td>\n",
       "      <td>19:58:00</td>\n",
       "      <td>MANHATTAN</td>\n",
       "      <td>0</td>\n",
       "      <td>M</td>\n",
       "      <td>WHITE HISPANIC</td>\n",
       "      <td>18-24</td>\n",
       "    </tr>\n",
       "    <tr>\n",
       "      <th>11</th>\n",
       "      <td>208237500</td>\n",
       "      <td>01/20/2020</td>\n",
       "      <td>04:50:00</td>\n",
       "      <td>MANHATTAN</td>\n",
       "      <td>0</td>\n",
       "      <td>M</td>\n",
       "      <td>BLACK HISPANIC</td>\n",
       "      <td>45-64</td>\n",
       "    </tr>\n",
       "    <tr>\n",
       "      <th>12</th>\n",
       "      <td>214513453</td>\n",
       "      <td>06/23/2020</td>\n",
       "      <td>19:15:00</td>\n",
       "      <td>STATEN ISLAND</td>\n",
       "      <td>0</td>\n",
       "      <td>M</td>\n",
       "      <td>WHITE HISPANIC</td>\n",
       "      <td>&lt;18</td>\n",
       "    </tr>\n",
       "    <tr>\n",
       "      <th>16</th>\n",
       "      <td>217256574</td>\n",
       "      <td>08/31/2020</td>\n",
       "      <td>14:55:00</td>\n",
       "      <td>BRONX</td>\n",
       "      <td>0</td>\n",
       "      <td>M</td>\n",
       "      <td>BLACK</td>\n",
       "      <td>25-44</td>\n",
       "    </tr>\n",
       "    <tr>\n",
       "      <th>18</th>\n",
       "      <td>213972320</td>\n",
       "      <td>06/08/2020</td>\n",
       "      <td>15:00:00</td>\n",
       "      <td>QUEENS</td>\n",
       "      <td>0</td>\n",
       "      <td>M</td>\n",
       "      <td>BLACK HISPANIC</td>\n",
       "      <td>45-64</td>\n",
       "    </tr>\n",
       "    <tr>\n",
       "      <th>...</th>\n",
       "      <td>...</td>\n",
       "      <td>...</td>\n",
       "      <td>...</td>\n",
       "      <td>...</td>\n",
       "      <td>...</td>\n",
       "      <td>...</td>\n",
       "      <td>...</td>\n",
       "      <td>...</td>\n",
       "    </tr>\n",
       "    <tr>\n",
       "      <th>1927</th>\n",
       "      <td>217495446</td>\n",
       "      <td>09/04/2020</td>\n",
       "      <td>20:51:00</td>\n",
       "      <td>BRONX</td>\n",
       "      <td>0</td>\n",
       "      <td>M</td>\n",
       "      <td>BLACK</td>\n",
       "      <td>25-44</td>\n",
       "    </tr>\n",
       "    <tr>\n",
       "      <th>1928</th>\n",
       "      <td>213972320</td>\n",
       "      <td>06/08/2020</td>\n",
       "      <td>15:00:00</td>\n",
       "      <td>QUEENS</td>\n",
       "      <td>0</td>\n",
       "      <td>M</td>\n",
       "      <td>BLACK HISPANIC</td>\n",
       "      <td>18-24</td>\n",
       "    </tr>\n",
       "    <tr>\n",
       "      <th>1932</th>\n",
       "      <td>219368182</td>\n",
       "      <td>10/16/2020</td>\n",
       "      <td>23:13:00</td>\n",
       "      <td>QUEENS</td>\n",
       "      <td>0</td>\n",
       "      <td>F</td>\n",
       "      <td>WHITE HISPANIC</td>\n",
       "      <td>25-44</td>\n",
       "    </tr>\n",
       "    <tr>\n",
       "      <th>1937</th>\n",
       "      <td>221490197</td>\n",
       "      <td>12/07/2020</td>\n",
       "      <td>20:11:00</td>\n",
       "      <td>BROOKLYN</td>\n",
       "      <td>0</td>\n",
       "      <td>M</td>\n",
       "      <td>BLACK</td>\n",
       "      <td>18-24</td>\n",
       "    </tr>\n",
       "    <tr>\n",
       "      <th>1940</th>\n",
       "      <td>208309289</td>\n",
       "      <td>01/21/2020</td>\n",
       "      <td>12:10:00</td>\n",
       "      <td>QUEENS</td>\n",
       "      <td>0</td>\n",
       "      <td>M</td>\n",
       "      <td>BLACK</td>\n",
       "      <td>&lt;18</td>\n",
       "    </tr>\n",
       "  </tbody>\n",
       "</table>\n",
       "<p>632 rows × 8 columns</p>\n",
       "</div>"
      ],
      "text/plain": [
       "      INCIDENT_KEY  OCCUR_DATE OCCUR_TIME           BORO  JURISDICTION_CODE  \\\n",
       "5        214607781  06/25/2020   19:58:00      MANHATTAN                  0   \n",
       "11       208237500  01/20/2020   04:50:00      MANHATTAN                  0   \n",
       "12       214513453  06/23/2020   19:15:00  STATEN ISLAND                  0   \n",
       "16       217256574  08/31/2020   14:55:00          BRONX                  0   \n",
       "18       213972320  06/08/2020   15:00:00         QUEENS                  0   \n",
       "...            ...         ...        ...            ...                ...   \n",
       "1927     217495446  09/04/2020   20:51:00          BRONX                  0   \n",
       "1928     213972320  06/08/2020   15:00:00         QUEENS                  0   \n",
       "1932     219368182  10/16/2020   23:13:00         QUEENS                  0   \n",
       "1937     221490197  12/07/2020   20:11:00       BROOKLYN                  0   \n",
       "1940     208309289  01/21/2020   12:10:00         QUEENS                  0   \n",
       "\n",
       "     PERP_SEX       PERP_RACE VIC_AGE_GROUP  \n",
       "5           M  WHITE HISPANIC         18-24  \n",
       "11          M  BLACK HISPANIC         45-64  \n",
       "12          M  WHITE HISPANIC           <18  \n",
       "16          M           BLACK         25-44  \n",
       "18          M  BLACK HISPANIC         45-64  \n",
       "...       ...             ...           ...  \n",
       "1927        M           BLACK         25-44  \n",
       "1928        M  BLACK HISPANIC         18-24  \n",
       "1932        F  WHITE HISPANIC         25-44  \n",
       "1937        M           BLACK         18-24  \n",
       "1940        M           BLACK           <18  \n",
       "\n",
       "[632 rows x 8 columns]"
      ]
     },
     "execution_count": 12,
     "metadata": {},
     "output_type": "execute_result"
    }
   ],
   "source": [
    "df3"
   ]
  },
  {
   "cell_type": "code",
   "execution_count": 13,
   "metadata": {},
   "outputs": [],
   "source": [
    "df3.to_csv(r'NYPD_Shooting_Incident_Data__Year_To_Date_Cleaned.csv')"
   ]
  },
  {
   "cell_type": "code",
   "execution_count": null,
   "metadata": {},
   "outputs": [],
   "source": []
  },
  {
   "cell_type": "code",
   "execution_count": null,
   "metadata": {},
   "outputs": [],
   "source": []
  }
 ],
 "metadata": {
  "kernelspec": {
   "display_name": "Python 3",
   "language": "python",
   "name": "python3"
  },
  "language_info": {
   "codemirror_mode": {
    "name": "ipython",
    "version": 3
   },
   "file_extension": ".py",
   "mimetype": "text/x-python",
   "name": "python",
   "nbconvert_exporter": "python",
   "pygments_lexer": "ipython3",
   "version": "3.8.5"
  }
 },
 "nbformat": 4,
 "nbformat_minor": 4
}
